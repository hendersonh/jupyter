{
 "cells": [
  {
   "cell_type": "code",
   "execution_count": 24,
   "metadata": {},
   "outputs": [],
   "source": [
    "import numpy as np\n",
    "import pandas as pd\n",
    "\n",
    "one   = np.array([[1,1,1],[1,1,1]])\n",
    "zeros = np.array([0,0,0])"
   ]
  },
  {
   "cell_type": "code",
   "execution_count": 25,
   "metadata": {},
   "outputs": [
    {
     "ename": "ValueError",
     "evalue": "all the input arrays must have same number of dimensions",
     "output_type": "error",
     "traceback": [
      "\u001b[1;31m---------------------------------------------------------------------------\u001b[0m",
      "\u001b[1;31mValueError\u001b[0m                                Traceback (most recent call last)",
      "\u001b[1;32m<ipython-input-25-790c44c677f3>\u001b[0m in \u001b[0;36m<module>\u001b[1;34m()\u001b[0m\n\u001b[0;32m      1\u001b[0m \u001b[1;31m# This will not work because of the two arrays have different shapes\u001b[0m\u001b[1;33m\u001b[0m\u001b[1;33m\u001b[0m\u001b[0m\n\u001b[1;32m----> 2\u001b[1;33m \u001b[0mcombined\u001b[0m \u001b[1;33m=\u001b[0m \u001b[0mnp\u001b[0m\u001b[1;33m.\u001b[0m\u001b[0mconcatenate\u001b[0m\u001b[1;33m(\u001b[0m\u001b[1;33m[\u001b[0m\u001b[0mone\u001b[0m\u001b[1;33m,\u001b[0m \u001b[0mzeros\u001b[0m\u001b[1;33m]\u001b[0m\u001b[1;33m,\u001b[0m \u001b[0maxis\u001b[0m\u001b[1;33m=\u001b[0m\u001b[1;36m0\u001b[0m\u001b[1;33m)\u001b[0m\u001b[1;33m\u001b[0m\u001b[0m\n\u001b[0m",
      "\u001b[1;31mValueError\u001b[0m: all the input arrays must have same number of dimensions"
     ]
    }
   ],
   "source": [
    "# This will not work because the two arrays have different shapes\n",
    "combined = np.concatenate([one, zeros], axis=0)"
   ]
  },
  {
   "cell_type": "code",
   "execution_count": 29,
   "metadata": {},
   "outputs": [
    {
     "data": {
      "text/plain": [
       "array([[0, 0, 0]])"
      ]
     },
     "execution_count": 29,
     "metadata": {},
     "output_type": "execute_result"
    }
   ],
   "source": [
    "#we will need to adjust zeros turning it into a 2D array as follows\n",
    "#adjust along the X axis because we want to concatenate the rows. \n",
    "zeros_2d = np.expand_dims(zeros, axis=0)\n",
    "zeros_2d "
   ]
  },
  {
   "cell_type": "code",
   "execution_count": 32,
   "metadata": {},
   "outputs": [
    {
     "data": {
      "text/plain": [
       "array([[1, 1, 1],\n",
       "       [1, 1, 1],\n",
       "       [0, 0, 0]])"
      ]
     },
     "execution_count": 32,
     "metadata": {},
     "output_type": "execute_result"
    }
   ],
   "source": [
    "#now we can extend the <one> arrays along the  axis (extend rows)\n",
    "combined = np.concatenate([one, zeros_2d], axis=0)\n",
    "combined"
   ]
  },
  {
   "cell_type": "markdown",
   "metadata": {},
   "source": []
  },
  {
   "cell_type": "markdown",
   "metadata": {},
   "source": [
    "Let deal's with sorting a numpy array: using argsort()\n",
    "argsort() will return the [indices] that will sort an array"
   ]
  },
  {
   "cell_type": "code",
   "execution_count": 39,
   "metadata": {},
   "outputs": [
    {
     "data": {
      "text/plain": [
       "array(['apple', 'banana', 'cherry', 'grape', 'orange'], dtype='<U6')"
      ]
     },
     "execution_count": 39,
     "metadata": {},
     "output_type": "execute_result"
    }
   ],
   "source": [
    "fruit = np.array(['orange', 'banana', 'apple', 'grape', 'cherry'])\n",
    "sorted_order = np.argsort(fruit)\n",
    "sorted_fruit = fruit[sorted_order]\n",
    "sorted_fruit"
   ]
  },
  {
   "cell_type": "code",
   "execution_count": 44,
   "metadata": {},
   "outputs": [],
   "source": [
    "# let's sort a 2D ndarray <int_square> by its last column \n",
    "int_square = np.array([[5, 2, 8, 3, 4],\n",
    "                       [2, 8, 6, 2, 5],\n",
    "                       [1, 6, 2, 7, 7],\n",
    "                       [0, 7, 7, 4, 5],\n",
    "                       [5, 7, 1, 1, 2]])"
   ]
  },
  {
   "cell_type": "code",
   "execution_count": 50,
   "metadata": {},
   "outputs": [
    {
     "data": {
      "text/plain": [
       "array([[5, 7, 1, 1, 2],\n",
       "       [5, 2, 8, 3, 4],\n",
       "       [2, 8, 6, 2, 5],\n",
       "       [0, 7, 7, 4, 5],\n",
       "       [1, 6, 2, 7, 7]])"
      ]
     },
     "execution_count": 50,
     "metadata": {},
     "output_type": "execute_result"
    }
   ],
   "source": [
    "#1. start by selecting just the last column\n",
    "last_column = int_square[:,4]\n",
    "#2. get the sorted indices for last column\n",
    "sorted_order = np.argsort(last_column)\n",
    "#3. Sort the entire ndarray with the <sorted_order> indices\n",
    "int_square_sorted = int_square[sorted_order]\n",
    "int_square_sorted "
   ]
  },
  {
   "cell_type": "markdown",
   "metadata": {},
   "source": []
  },
  {
   "cell_type": "markdown",
   "metadata": {},
   "source": [
    "Indexing or Selecting using a Boolean Array: boolean selecting/indexing"
   ]
  },
  {
   "cell_type": "code",
   "execution_count": 69,
   "metadata": {},
   "outputs": [
    {
     "data": {
      "text/plain": [
       "2"
      ]
     },
     "execution_count": 69,
     "metadata": {},
     "output_type": "execute_result"
    }
   ],
   "source": [
    "c = np.array([80.0, 103.4, 96.9, 200.3])\n",
    "#create boolean array marking all elements > 100\n",
    "c_bool = c > 100\n",
    "result = c[c_bool]  #result contains elements greater than 100\n",
    "result.shape"
   ]
  },
  {
   "cell_type": "markdown",
   "metadata": {},
   "source": [
    "pickup_month = taxi[:,1]\n",
    "\n",
    "january_bool = pickup_month == 1\n",
    "january = pickup_month[january_bool]\n",
    "january_rides = january.shape[0]\n",
    "\n",
    "february_bool = pickup_month == 2\n",
    "february = pickup_month[february_bool]\n",
    "february_rides = february.shape[0]\n",
    "\n",
    "march_bool = pickup_month == 3\n",
    "march = pickup_month[march_bool]\n",
    "march_rides = march.shape[0]"
   ]
  },
  {
   "cell_type": "code",
   "execution_count": null,
   "metadata": {},
   "outputs": [],
   "source": []
  },
  {
   "cell_type": "markdown",
   "metadata": {},
   "source": [
    "Reading data from a file: usng the genfromtxt()\n",
    "general format is: np.genfromtxt(filename, delimiter=',', skip_header=1)"
   ]
  },
  {
   "cell_type": "code",
   "execution_count": 65,
   "metadata": {},
   "outputs": [
    {
     "data": {
      "text/plain": [
       "array([ True,  True, False, False])"
      ]
     },
     "execution_count": 65,
     "metadata": {},
     "output_type": "execute_result"
    }
   ],
   "source": [
    "arr = np.array([2,4,6,8])\n",
    "arr <= 4\n"
   ]
  }
 ],
 "metadata": {
  "kernelspec": {
   "display_name": "Python 3",
   "language": "python",
   "name": "python3"
  },
  "language_info": {
   "codemirror_mode": {
    "name": "ipython",
    "version": 3
   },
   "file_extension": ".py",
   "mimetype": "text/x-python",
   "name": "python",
   "nbconvert_exporter": "python",
   "pygments_lexer": "ipython3",
   "version": "3.7.0"
  }
 },
 "nbformat": 4,
 "nbformat_minor": 2
}
