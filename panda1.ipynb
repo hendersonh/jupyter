{
 "cells": [
  {
   "cell_type": "code",
   "execution_count": 53,
   "metadata": {},
   "outputs": [
    {
     "name": "stdout",
     "output_type": "stream",
     "text": [
      "largest words are:\n",
      " 9     question\n",
      "10    question\n",
      "11    question\n",
      "Name: word, dtype: object\n"
     ]
    }
   ],
   "source": [
    "import pandas as pd\n",
    "\n",
    "def WordData(sen):\n",
    "    col_names =  ['word', 'length']\n",
    "    data = pd.DataFrame(columns = col_names)\n",
    "    data[\"word\"] = sen.split()\n",
    "    data[\"length\"] = data['word'].apply(len)\n",
    "    return data  \n",
    "\n",
    "def largestWords(sentence):\n",
    "    data = WordData(sentence)\n",
    "    max_len = data[\"length\"].max()\n",
    "    max_len_bool = data[\"length\"] == max_len\n",
    "    return data.loc[max_len_bool, \"word\"]\n",
    "\n",
    "largest = largestWords(\"To kill or not to kill is the big question question question\") \n",
    "print(\"largest words are:\\n\", largest)"
   ]
  },
  {
   "cell_type": "code",
   "execution_count": 79,
   "metadata": {},
   "outputs": [
    {
     "name": "stdout",
     "output_type": "stream",
     "text": [
      "1,2\n"
     ]
    }
   ],
   "source": [
    "arr = [\"[1,2]\", \"[2, 4, 6, 8]\"]\n",
    "\n",
    "print(arr[0][1:-1])\n",
    "    \n",
    "\n",
    "    "
   ]
  }
 ],
 "metadata": {
  "kernelspec": {
   "display_name": "Python 3",
   "language": "python",
   "name": "python3"
  },
  "language_info": {
   "codemirror_mode": {
    "name": "ipython",
    "version": 3
   },
   "file_extension": ".py",
   "mimetype": "text/x-python",
   "name": "python",
   "nbconvert_exporter": "python",
   "pygments_lexer": "ipython3",
   "version": "3.7.0"
  }
 },
 "nbformat": 4,
 "nbformat_minor": 2
}
